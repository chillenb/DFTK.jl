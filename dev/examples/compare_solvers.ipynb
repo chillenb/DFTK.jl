{
 "cells": [
  {
   "cell_type": "markdown",
   "source": [
    "# Comparison of DFT solvers"
   ],
   "metadata": {}
  },
  {
   "cell_type": "markdown",
   "source": [
    "We compare four different approaches for solving the DFT minimisation problem,\n",
    "namely a density-based SCF, a potential-based SCF, direct minimisation and Newton."
   ],
   "metadata": {}
  },
  {
   "cell_type": "markdown",
   "source": [
    "First we setup our problem"
   ],
   "metadata": {}
  },
  {
   "outputs": [
    {
     "output_type": "execute_result",
     "data": {
      "text/plain": "1.0e-6"
     },
     "metadata": {},
     "execution_count": 1
    }
   ],
   "cell_type": "code",
   "source": [
    "using DFTK\n",
    "using LinearAlgebra\n",
    "\n",
    "a = 10.26  # Silicon lattice constant in Bohr\n",
    "lattice = a / 2 * [[0 1 1.];\n",
    "                   [1 0 1.];\n",
    "                   [1 1 0.]]\n",
    "Si = ElementPsp(:Si; psp=load_psp(\"hgh/lda/Si-q4\"))\n",
    "atoms     = [Si, Si]\n",
    "positions = [ones(3)/8, -ones(3)/8]\n",
    "\n",
    "model = model_LDA(lattice, atoms, positions)\n",
    "basis = PlaneWaveBasis(model; Ecut=5, kgrid=[3, 3, 3])\n",
    "\n",
    "# Convergence we desire in the density\n",
    "tol = 1e-6"
   ],
   "metadata": {},
   "execution_count": 1
  },
  {
   "cell_type": "markdown",
   "source": [
    "## Density-based self-consistent field"
   ],
   "metadata": {}
  },
  {
   "outputs": [
    {
     "name": "stdout",
     "output_type": "stream",
     "text": [
      "n     Energy            log10(ΔE)   log10(Δρ)   Diag   Δtime\n",
      "---   ---------------   ---------   ---------   ----   ------\n",
      "  1   -7.847757361226                   -0.70    4.5   88.4ms\n",
      "  2   -7.852402901177       -2.33       -1.53    1.0   18.5ms\n",
      "  3   -7.852610283802       -3.68       -2.54    1.2   19.3ms\n",
      "  4   -7.852645471192       -4.45       -2.78    2.5   25.5ms\n",
      "  5   -7.852646095778       -6.20       -2.88    1.0   18.4ms\n",
      "  6   -7.852646665939       -6.24       -3.84    1.0   18.6ms\n",
      "  7   -7.852646684816       -7.72       -4.64    1.5   20.9ms\n",
      "  8   -7.852646686680       -8.73       -5.03    1.8   22.1ms\n",
      "  9   -7.852646686726      -10.34       -5.93    1.0   18.7ms\n",
      " 10   -7.852646686728      -11.53       -5.71    2.2   25.1ms\n",
      " 11   -7.852646686730      -11.95       -6.09    1.0   18.8ms\n"
     ]
    }
   ],
   "cell_type": "code",
   "source": [
    "scfres_scf = self_consistent_field(basis; tol);"
   ],
   "metadata": {},
   "execution_count": 2
  },
  {
   "cell_type": "markdown",
   "source": [
    "## Potential-based SCF"
   ],
   "metadata": {}
  },
  {
   "outputs": [
    {
     "name": "stdout",
     "output_type": "stream",
     "text": [
      "n     Energy            log10(ΔE)   log10(Δρ)   α      Diag   Δtime\n",
      "---   ---------------   ---------   ---------   ----   ----   ------\n",
      "  1   -7.847790981647                   -0.70           4.5    389ms\n",
      "  2   -7.852561570870       -2.32       -1.62   0.80    2.0    2.23s\n",
      "  3   -7.852641258679       -4.10       -2.70   0.80    1.0    228ms\n",
      "  4   -7.852646519488       -5.28       -3.40   0.80    2.0   22.0ms\n",
      "  5   -7.852646682183       -6.79       -4.42   0.80    1.5   49.0ms\n",
      "  6   -7.852646686634       -8.35       -4.86   0.80    2.0   23.3ms\n",
      "  7   -7.852646686727      -10.04       -5.52   0.80    1.0   17.4ms\n",
      "  8   -7.852646686730      -11.52       -6.51   0.80    1.5   19.6ms\n"
     ]
    }
   ],
   "cell_type": "code",
   "source": [
    "scfres_scfv = DFTK.scf_potential_mixing(basis; tol);"
   ],
   "metadata": {},
   "execution_count": 3
  },
  {
   "cell_type": "markdown",
   "source": [
    "## Direct minimization\n",
    "Note: Unlike the other algorithms, tolerance for this one is in the energy,\n",
    "thus we square the density tolerance value to be roughly equivalent."
   ],
   "metadata": {}
  },
  {
   "outputs": [
    {
     "name": "stdout",
     "output_type": "stream",
     "text": [
      "n     Energy            log10(ΔE)   log10(Δρ)   Δtime\n",
      "---   ---------------   ---------   ---------   ------\n",
      "  1   +1.353445736983                   -0.98    4.21s\n",
      "  2   -0.979628807200        0.37       -0.65    130ms\n",
      "  3   -3.515372575927        0.40       -0.45   33.2ms\n",
      "  4   -4.472381619054       -0.02       -0.61   33.1ms\n",
      "  5   -6.324077027387        0.27       -0.70   33.2ms\n",
      "  6   -7.082503819583       -0.12       -1.07   33.3ms\n",
      "  7   -7.422128339679       -0.47       -1.47   25.3ms\n",
      "  8   -7.636194925183       -0.67       -1.78   25.1ms\n",
      "  9   -7.691531098159       -1.26       -1.98   25.1ms\n",
      " 10   -7.732583499018       -1.39       -2.02   25.2ms\n",
      " 11   -7.764904125409       -1.49       -2.16   33.6ms\n",
      " 12   -7.786913329779       -1.66       -2.45   25.3ms\n",
      " 13   -7.801757004899       -1.83       -2.53   25.2ms\n",
      " 14   -7.819359780326       -1.75       -2.24   25.1ms\n",
      " 15   -7.840327809071       -1.68       -1.93   51.0ms\n",
      " 16   -7.846586255450       -2.20       -2.44   25.9ms\n",
      " 17   -7.850329998694       -2.43       -2.90   25.5ms\n",
      " 18   -7.852065675129       -2.76       -3.22   25.2ms\n",
      " 19   -7.852426570178       -3.44       -3.75   25.5ms\n",
      " 20   -7.852569030489       -3.85       -3.52   25.3ms\n",
      " 21   -7.852625367889       -4.25       -4.60   25.3ms\n",
      " 22   -7.852639653286       -4.85       -3.82   25.2ms\n",
      " 23   -7.852643814487       -5.38       -4.52   25.2ms\n",
      " 24   -7.852645344852       -5.82       -5.02   25.3ms\n",
      " 25   -7.852646176647       -6.08       -5.04   25.3ms\n",
      " 26   -7.852646496496       -6.50       -4.65   25.3ms\n",
      " 27   -7.852646618246       -6.91       -5.43   25.3ms\n",
      " 28   -7.852646666055       -7.32       -5.03   25.2ms\n",
      " 29   -7.852646679796       -7.86       -5.99   25.2ms\n",
      " 30   -7.852646684788       -8.30       -5.88   25.2ms\n",
      " 31   -7.852646686019       -8.91       -6.47   25.2ms\n",
      " 32   -7.852646686426       -9.39       -7.32   25.2ms\n",
      " 33   -7.852646686640       -9.67       -6.47   25.3ms\n",
      " 34   -7.852646686697      -10.25       -6.91   25.5ms\n",
      " 35   -7.852646686718      -10.67       -6.94   25.4ms\n",
      " 36   -7.852646686726      -11.09       -7.42   25.3ms\n",
      " 37   -7.852646686729      -11.61       -7.48   25.3ms\n",
      " 38   -7.852646686730      -12.19       -7.79   25.4ms\n",
      " 39   -7.852646686730      -12.73       -7.98   25.3ms\n",
      " 40   -7.852646686730      -13.07       -8.44   25.2ms\n",
      " 41   -7.852646686730      -13.30       -8.90   25.3ms\n",
      " 42   -7.852646686730      -13.85       -9.00   25.2ms\n",
      " 43   -7.852646686730      -14.45       -8.68   25.3ms\n",
      " 44   -7.852646686730      -14.57       -9.42   25.3ms\n",
      " 45   -7.852646686730      -15.05       -9.12   49.6ms\n",
      " 46   -7.852646686730   +    -Inf       -9.06   73.9ms\n",
      " 47   -7.852646686730   +    -Inf       -9.06   94.7ms\n",
      "┌ Warning: DM not converged.\n",
      "└ @ DFTK ~/work/DFTK.jl/DFTK.jl/src/scf/scf_callbacks.jl:60\n"
     ]
    }
   ],
   "cell_type": "code",
   "source": [
    "scfres_dm = direct_minimization(basis; tol=tol^2);"
   ],
   "metadata": {},
   "execution_count": 4
  },
  {
   "cell_type": "markdown",
   "source": [
    "## Newton algorithm"
   ],
   "metadata": {}
  },
  {
   "cell_type": "markdown",
   "source": [
    "Start not too far from the solution to ensure convergence:\n",
    "We run first a very crude SCF to get close and then switch to Newton."
   ],
   "metadata": {}
  },
  {
   "outputs": [
    {
     "name": "stdout",
     "output_type": "stream",
     "text": [
      "n     Energy            log10(ΔE)   log10(Δρ)   Diag   Δtime\n",
      "---   ---------------   ---------   ---------   ----   ------\n",
      "  1   -7.847811815987                   -0.70    4.8   36.3ms\n"
     ]
    }
   ],
   "cell_type": "code",
   "source": [
    "scfres_start = self_consistent_field(basis; tol=0.5);"
   ],
   "metadata": {},
   "execution_count": 5
  },
  {
   "cell_type": "markdown",
   "source": [
    "Remove the virtual orbitals (which Newton cannot treat yet)"
   ],
   "metadata": {}
  },
  {
   "outputs": [
    {
     "name": "stdout",
     "output_type": "stream",
     "text": [
      "n     Energy            log10(ΔE)   log10(Δρ)   Δtime\n",
      "---   ---------------   ---------   ---------   ------\n",
      "  1   -7.852645852653                   -1.63    13.8s\n",
      "  2   -7.852646686730       -6.08       -3.69    3.56s\n",
      "  3   -7.852646686730      -13.26       -7.20    110ms\n"
     ]
    }
   ],
   "cell_type": "code",
   "source": [
    "ψ = DFTK.select_occupied_orbitals(basis, scfres_start.ψ, scfres_start.occupation).ψ\n",
    "scfres_newton = newton(basis, ψ; tol);"
   ],
   "metadata": {},
   "execution_count": 6
  },
  {
   "cell_type": "markdown",
   "source": [
    "## Comparison of results"
   ],
   "metadata": {}
  },
  {
   "outputs": [
    {
     "name": "stdout",
     "output_type": "stream",
     "text": [
      "|ρ_newton - ρ_scf|  = 8.033246924295935e-7\n",
      "|ρ_newton - ρ_scfv| = 5.213174397767181e-7\n",
      "|ρ_newton - ρ_dm|   = 4.0404337849209055e-9\n"
     ]
    }
   ],
   "cell_type": "code",
   "source": [
    "println(\"|ρ_newton - ρ_scf|  = \", norm(scfres_newton.ρ - scfres_scf.ρ))\n",
    "println(\"|ρ_newton - ρ_scfv| = \", norm(scfres_newton.ρ - scfres_scfv.ρ))\n",
    "println(\"|ρ_newton - ρ_dm|   = \", norm(scfres_newton.ρ - scfres_dm.ρ))"
   ],
   "metadata": {},
   "execution_count": 7
  }
 ],
 "nbformat_minor": 3,
 "metadata": {
  "language_info": {
   "file_extension": ".jl",
   "mimetype": "application/julia",
   "name": "julia",
   "version": "1.10.4"
  },
  "kernelspec": {
   "name": "julia-1.10",
   "display_name": "Julia 1.10.4",
   "language": "julia"
  }
 },
 "nbformat": 4
}
