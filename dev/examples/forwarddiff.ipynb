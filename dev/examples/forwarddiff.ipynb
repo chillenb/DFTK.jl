{
 "cells": [
  {
   "cell_type": "markdown",
   "source": [
    "# Polarizability using automatic differentiation\n",
    "\n",
    "Simple example for computing properties using (forward-mode)\n",
    "automatic differentiation.\n",
    "For a more classical approach and more details about computing polarizabilities,\n",
    "see Polarizability by linear response."
   ],
   "metadata": {}
  },
  {
   "outputs": [],
   "cell_type": "code",
   "source": [
    "using DFTK\n",
    "using LinearAlgebra\n",
    "using ForwardDiff\n",
    "\n",
    "# Construct PlaneWaveBasis given a particular electric field strength\n",
    "# Again we take the example of a Helium atom.\n",
    "function make_basis(ε::T; a=10., Ecut=30) where {T}\n",
    "    lattice=T(a) * I(3)  # lattice is a cube of $a$ Bohrs\n",
    "    # Helium at the center of the box\n",
    "    atoms     = [ElementPsp(:He; psp=load_psp(\"hgh/lda/He-q2\"))]\n",
    "    positions = [[1/2, 1/2, 1/2]]\n",
    "\n",
    "    model = model_DFT(lattice, atoms, positions, [:lda_x, :lda_c_vwn];\n",
    "                      extra_terms=[ExternalFromReal(r -> -ε * (r[1] - a/2))],\n",
    "                      symmetries=false)\n",
    "    PlaneWaveBasis(model; Ecut, kgrid=[1, 1, 1])  # No k-point sampling on isolated system\n",
    "end\n",
    "\n",
    "# dipole moment of a given density (assuming the current geometry)\n",
    "function dipole(basis, ρ)\n",
    "    @assert isdiag(basis.model.lattice)\n",
    "    a  = basis.model.lattice[1, 1]\n",
    "    rr = [a * (r[1] - 1/2) for r in r_vectors(basis)]\n",
    "    sum(rr .* ρ) * basis.dvol\n",
    "end\n",
    "\n",
    "# Function to compute the dipole for a given field strength\n",
    "function compute_dipole(ε; tol=1e-8, kwargs...)\n",
    "    scfres = self_consistent_field(make_basis(ε; kwargs...); tol)\n",
    "    dipole(scfres.basis, scfres.ρ)\n",
    "end;"
   ],
   "metadata": {},
   "execution_count": 1
  },
  {
   "cell_type": "markdown",
   "source": [
    "With this in place we can compute the polarizability from finite differences\n",
    "(just like in the previous example):"
   ],
   "metadata": {}
  },
  {
   "outputs": [
    {
     "name": "stdout",
     "output_type": "stream",
     "text": [
      "n     Energy            log10(ΔE)   log10(Δρ)   Diag   Δtime\n",
      "---   ---------------   ---------   ---------   ----   ------\n",
      "  1   -2.770968878662                   -0.53    9.0    185ms\n",
      "  2   -2.772151464351       -2.93       -1.32    1.0    113ms\n",
      "  3   -2.772170381814       -4.72       -2.49    1.0    107ms\n",
      "  4   -2.772170667862       -6.54       -3.24    1.0    109ms\n",
      "  5   -2.772170722700       -7.26       -4.11    2.0    128ms\n",
      "  6   -2.772170722917       -9.66       -4.41    1.0    128ms\n",
      "  7   -2.772170723011      -10.03       -5.34    1.0    117ms\n",
      "  8   -2.772170723015      -11.38       -5.92    2.0    140ms\n",
      "  9   -2.772170723015      -12.96       -6.42    1.0    119ms\n",
      " 10   -2.772170723015      -13.61       -7.05    1.0    135ms\n",
      " 11   -2.772170723015   +  -14.10       -7.64    2.0    148ms\n",
      " 12   -2.772170723015      -13.77       -7.80    1.0    124ms\n",
      " 13   -2.772170723015   +  -14.57       -8.73    1.0    137ms\n",
      "n     Energy            log10(ΔE)   log10(Δρ)   Diag   Δtime\n",
      "---   ---------------   ---------   ---------   ----   ------\n",
      "  1   -2.770726576738                   -0.53    9.0    197ms\n",
      "  2   -2.772055505493       -2.88       -1.31    1.0    125ms\n",
      "  3   -2.772083072516       -4.56       -2.59    1.0    106ms\n",
      "  4   -2.772083388370       -6.50       -3.71    1.0    124ms\n",
      "  5   -2.772083416419       -7.55       -3.97    2.0    125ms\n",
      "  6   -2.772083417787       -8.86       -5.21    1.0    113ms\n",
      "  7   -2.772083417810      -10.63       -5.75    2.0    132ms\n",
      "  8   -2.772083417811      -12.45       -5.98    2.0    134ms\n",
      "  9   -2.772083417811      -13.50       -6.92    1.0    125ms\n",
      " 10   -2.772083417811   +  -14.27       -6.98    2.0    161ms\n",
      " 11   -2.772083417811      -14.45       -8.22    1.0    120ms\n"
     ]
    },
    {
     "output_type": "execute_result",
     "data": {
      "text/plain": "1.773558050442181"
     },
     "metadata": {},
     "execution_count": 2
    }
   ],
   "cell_type": "code",
   "source": [
    "polarizability_fd = let\n",
    "    ε = 0.01\n",
    "    (compute_dipole(ε) - compute_dipole(0.0)) / ε\n",
    "end"
   ],
   "metadata": {},
   "execution_count": 2
  },
  {
   "cell_type": "markdown",
   "source": [
    "We do the same thing using automatic differentiation. Under the hood this uses\n",
    "custom rules to implicitly differentiate through the self-consistent\n",
    "field fixed-point problem."
   ],
   "metadata": {}
  },
  {
   "outputs": [
    {
     "name": "stdout",
     "output_type": "stream",
     "text": [
      "n     Energy            log10(ΔE)   log10(Δρ)   Diag   Δtime\n",
      "---   ---------------   ---------   ---------   ----   ------\n",
      "  1   -2.770681855296                   -0.53    9.0    183ms\n",
      "  2   -2.772052743678       -2.86       -1.31    1.0    104ms\n",
      "  3   -2.772083137371       -4.52       -2.60    1.0    116ms\n",
      "  4   -2.772083402294       -6.58       -3.90    1.0    124ms\n",
      "  5   -2.772083417329       -7.82       -4.24    2.0    149ms\n",
      "  6   -2.772083417791       -9.34       -5.50    1.0    118ms\n",
      "  7   -2.772083417810      -10.73       -5.58    2.0    131ms\n",
      "  8   -2.772083417811      -12.05       -6.67    1.0    143ms\n",
      "  9   -2.772083417811      -13.60       -6.68    2.0    140ms\n",
      " 10   -2.772083417811      -13.69       -7.54    1.0    425ms\n",
      " 11   -2.772083417811   +  -13.77       -8.21    1.0    377ms\n",
      "\n",
      "Polarizability via ForwardDiff:       1.772534970471691\n",
      "Polarizability via finite difference: 1.773558050442181\n"
     ]
    }
   ],
   "cell_type": "code",
   "source": [
    "polarizability = ForwardDiff.derivative(compute_dipole, 0.0)\n",
    "println()\n",
    "println(\"Polarizability via ForwardDiff:       $polarizability\")\n",
    "println(\"Polarizability via finite difference: $polarizability_fd\")"
   ],
   "metadata": {},
   "execution_count": 3
  }
 ],
 "nbformat_minor": 3,
 "metadata": {
  "language_info": {
   "file_extension": ".jl",
   "mimetype": "application/julia",
   "name": "julia",
   "version": "1.10.4"
  },
  "kernelspec": {
   "name": "julia-1.10",
   "display_name": "Julia 1.10.4",
   "language": "julia"
  }
 },
 "nbformat": 4
}
