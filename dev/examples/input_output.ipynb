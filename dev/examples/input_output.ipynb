{
 "cells": [
  {
   "cell_type": "markdown",
   "source": [
    "# Input and output formats"
   ],
   "metadata": {}
  },
  {
   "cell_type": "markdown",
   "source": [
    "This section provides an overview of the input and output formats\n",
    "supported by DFTK, usually via integration with a third-party library.\n",
    "\n",
    "## Reading / writing files supported by AtomsIO\n",
    "[AtomsIO](https://github.com/mfherbst/AtomsIO.jl) is a Julia package which supports\n",
    "reading / writing atomistic structures from / to a large range of file formats.\n",
    "Supported formats include Crystallographic Information Framework (CIF),\n",
    "XYZ and extxyz files, ASE / Gromacs / LAMMPS / Amber trajectory files\n",
    "or input files of various other codes (e.g. Quantum Espresso, VASP, ABINIT, CASTEP, …).\n",
    "The full list of formats is is available in the\n",
    "[AtomsIO documentation](https://mfherbst.github.io/AtomsIO.jl/stable).\n",
    "\n",
    "The AtomsIO functionality is split into two packages. The main package, `AtomsIO` itself,\n",
    "only depends on packages, which are registered in the Julia General package registry.\n",
    "In contrast `AtomsIOPython` extends `AtomsIO` by parsers depending on python packages,\n",
    "which are automatically managed via `PythonCall`. While it thus provides the full set of\n",
    "supported IO formats, this also adds additional practical complications, so some users\n",
    "may choose not to use `AtomsIOPython`.\n",
    "\n",
    "As an example we start the calculation of a simple antiferromagnetic iron crystal\n",
    "using a Quantum-Espresso input file, [Fe_afm.pwi](Fe_afm.pwi).\n",
    "For more details about calculations on magnetic systems\n",
    "using collinear spin, see Collinear spin and magnetic systems.\n",
    "\n",
    "First we parse the Quantum Espresso input file using AtomsIO,\n",
    "which reads the lattice, atomic positions and initial magnetisation\n",
    "from the input file and returns it as an\n",
    "[AtomsBase](https://github.com/JuliaMolSim/AtomsBase.jl) `AbstractSystem`,\n",
    "the JuliaMolSim community standard for representing atomic systems."
   ],
   "metadata": {}
  },
  {
   "outputs": [
    {
     "output_type": "execute_result",
     "data": {
      "text/plain": "FlexibleSystem(Fe₂, periodic = TTT):\n    bounding_box      : [ 2.86814        0        0;\n                                0  2.86814        0;\n                                0        0  2.86814]u\"Å\"\n\n    Atom(Fe, [       0,        0,        0]u\"Å\")\n    Atom(Fe, [ 1.43407,  1.43407,  1.43407]u\"Å\")\n\n      .------.  \n     /|      |  \n    * |      |  \n    | | Fe   |  \n    | .------.  \n    |/      /   \n    Fe-----*    \n"
     },
     "metadata": {},
     "execution_count": 1
    }
   ],
   "cell_type": "code",
   "source": [
    "using AtomsIO        # Use Julia-only IO parsers\n",
    "using AtomsIOPython  # Use python-based IO parsers (e.g. ASE)\n",
    "system = load_system(\"Fe_afm.pwi\")"
   ],
   "metadata": {},
   "execution_count": 1
  },
  {
   "cell_type": "markdown",
   "source": [
    "Next we attach pseudopotential information, since currently the parser is not\n",
    "yet capable to read this information from the file."
   ],
   "metadata": {}
  },
  {
   "outputs": [
    {
     "output_type": "execute_result",
     "data": {
      "text/plain": "FlexibleSystem(Fe₂, periodic = TTT):\n    bounding_box      : [ 2.86814        0        0;\n                                0  2.86814        0;\n                                0        0  2.86814]u\"Å\"\n\n    Atom(Fe, [       0,        0,        0]u\"Å\")\n    Atom(Fe, [ 1.43407,  1.43407,  1.43407]u\"Å\")\n\n      .------.  \n     /|      |  \n    * |      |  \n    | | Fe   |  \n    | .------.  \n    |/      /   \n    Fe-----*    \n"
     },
     "metadata": {},
     "execution_count": 2
    }
   ],
   "cell_type": "code",
   "source": [
    "using DFTK\n",
    "system = attach_psp(system, Fe=\"hgh/pbe/fe-q16.hgh\")"
   ],
   "metadata": {},
   "execution_count": 2
  },
  {
   "cell_type": "markdown",
   "source": [
    "Finally we make use of DFTK's AtomsBase integration to run the calculation."
   ],
   "metadata": {}
  },
  {
   "outputs": [
    {
     "name": "stdout",
     "output_type": "stream",
     "text": [
      "n     Energy            log10(ΔE)   log10(Δρ)   Magnet   Diag   Δtime\n",
      "---   ---------------   ---------   ---------   ------   ----   ------\n",
      "  1   -224.0551535606                   -0.05   -0.653    5.1    342ms\n",
      "  2   -224.1931336174       -0.86       -0.46   -0.551    1.8    207ms\n",
      "  3   -224.2168835758       -1.62       -1.71   -0.489    3.0    263ms\n",
      "  4   -224.2169598570       -4.12       -2.45   -0.467    1.0    155ms\n",
      "  5   -224.2169701754       -4.99       -2.63   -0.448    1.8    172ms\n",
      "  6   -224.2169788478       -5.06       -2.73   -0.411    1.5    168ms\n",
      "  7   -224.2169959968       -4.77       -2.74   -0.291    1.5    179ms\n",
      "  8   -224.2170085720       -4.90       -2.78   -0.146    2.0    202ms\n",
      "  9   -224.2170127935       -5.37       -2.94   -0.037    1.8    198ms\n",
      " 10   -224.2170133590       -6.25       -3.19   -0.014    1.0    155ms\n",
      " 11   -224.2170136172       -6.59       -3.55   -0.005    1.4    169ms\n",
      " 12   -224.2170136726       -7.26       -4.16    0.001    1.5    171ms\n",
      " 13   -224.2170136772       -8.34       -5.06    0.000    2.0    216ms\n",
      " 14   -224.2170136773       -9.95       -5.30   -0.000    2.6    213ms\n",
      " 15   -224.2170136773      -10.81       -5.82   -0.000    1.4    170ms\n",
      " 16   -224.2170136773      -11.54       -6.21    0.000    2.2    206ms\n"
     ]
    }
   ],
   "cell_type": "code",
   "source": [
    "model = model_LDA(system; temperature=0.01)\n",
    "basis = PlaneWaveBasis(model; Ecut=10, kgrid=(2, 2, 2))\n",
    "ρ0 = guess_density(basis, system)\n",
    "scfres = self_consistent_field(basis, ρ=ρ0);"
   ],
   "metadata": {},
   "execution_count": 3
  },
  {
   "cell_type": "markdown",
   "source": [
    "!!! warning \"DFTK data formats are not yet fully matured\"\n",
    "    The data format in which DFTK saves data as well as the general interface\n",
    "    of the `load_scfres` and `save_scfres` pair of functions\n",
    "    are not yet fully matured. If you use the functions or the produced files\n",
    "    expect that you need to adapt your routines in the future even with patch\n",
    "    version bumps."
   ],
   "metadata": {}
  },
  {
   "cell_type": "markdown",
   "source": [
    "## Writing VTK files for visualization\n",
    "For visualizing the density or the Kohn-Sham orbitals DFTK supports storing\n",
    "the result of an SCF calculations in the form of VTK files.\n",
    "These can afterwards be visualized using tools such\n",
    "as [paraview](https://www.paraview.org/).\n",
    "Using this feature requires\n",
    "the [WriteVTK.jl](https://github.com/jipolanco/WriteVTK.jl/) Julia package."
   ],
   "metadata": {}
  },
  {
   "outputs": [],
   "cell_type": "code",
   "source": [
    "using WriteVTK\n",
    "save_scfres(\"iron_afm.vts\", scfres; save_ψ=true);"
   ],
   "metadata": {},
   "execution_count": 4
  },
  {
   "cell_type": "markdown",
   "source": [
    "This will save the iron calculation above into the file `iron_afm.vts`,\n",
    "using `save_ψ=true` to also include the KS orbitals."
   ],
   "metadata": {}
  },
  {
   "cell_type": "markdown",
   "source": [
    "## Parsable data-export using json\n",
    "Many structures in DFTK support the (unexported) `todict` function,\n",
    "which returns a simplified dictionary representation of the data."
   ],
   "metadata": {}
  },
  {
   "outputs": [
    {
     "output_type": "execute_result",
     "data": {
      "text/plain": "Dict{String, Float64} with 9 entries:\n  \"AtomicNonlocal\" => -4.32427\n  \"PspCorrection\"  => 7.03001\n  \"Ewald\"          => -171.89\n  \"total\"          => -224.217\n  \"Entropy\"        => -0.0328468\n  \"Kinetic\"        => 74.1104\n  \"AtomicLocal\"    => -139.801\n  \"Hartree\"        => 31.6017\n  \"Xc\"             => -20.9115"
     },
     "metadata": {},
     "execution_count": 5
    }
   ],
   "cell_type": "code",
   "source": [
    "DFTK.todict(scfres.energies)"
   ],
   "metadata": {},
   "execution_count": 5
  },
  {
   "cell_type": "markdown",
   "source": [
    "This in turn can be easily written to disk using a JSON library.\n",
    "Currently we integrate most closely with `JSON3`,\n",
    "which is thus recommended."
   ],
   "metadata": {}
  },
  {
   "outputs": [
    {
     "name": "stdout",
     "output_type": "stream",
     "text": [
      "{\n",
      "    \"AtomicNonlocal\": -4.324270060193098,\n",
      "    \"PspCorrection\": 7.03000636467455,\n",
      "    \"Ewald\": -171.88999401525265,\n",
      "    \"total\": -224.217013677285,\n",
      "    \"Entropy\": -0.032846804697391145,\n",
      "    \"Kinetic\": 74.11040770257233,\n",
      "    \"AtomicLocal\": -139.80051059333138,\n",
      "    \"Hartree\": 31.601692893380438,\n",
      "    \"Xc\": -20.911499164437796\n",
      "}\n"
     ]
    }
   ],
   "cell_type": "code",
   "source": [
    "using JSON3\n",
    "open(\"iron_afm_energies.json\", \"w\") do io\n",
    "    JSON3.pretty(io, DFTK.todict(scfres.energies))\n",
    "end\n",
    "println(read(\"iron_afm_energies.json\", String))"
   ],
   "metadata": {},
   "execution_count": 6
  },
  {
   "cell_type": "markdown",
   "source": [
    "Once JSON3 is loaded, additionally a convenience function for saving\n",
    "a summary of `scfres` objects using `save_scfres` is available:"
   ],
   "metadata": {}
  },
  {
   "outputs": [],
   "cell_type": "code",
   "source": [
    "using JSON3\n",
    "save_scfres(\"iron_afm.json\", scfres)"
   ],
   "metadata": {},
   "execution_count": 7
  },
  {
   "cell_type": "markdown",
   "source": [
    "Similarly a summary of the band data (occupations, eigenvalues, εF, etc.)\n",
    "for post-processing can be dumped using `save_bands`:"
   ],
   "metadata": {}
  },
  {
   "outputs": [],
   "cell_type": "code",
   "source": [
    "save_bands(\"iron_afm_scfres.json\", scfres)"
   ],
   "metadata": {},
   "execution_count": 8
  },
  {
   "cell_type": "markdown",
   "source": [
    "Notably this function works both for the results obtained\n",
    "by `self_consistent_field` as well as `compute_bands`:"
   ],
   "metadata": {}
  },
  {
   "outputs": [
    {
     "name": "stdout",
     "output_type": "stream",
     "text": [
      "┌ Warning: The provided cell is a supercell: the returned k-path is the standard k-path of the associated primitive cell in the basis of the supercell reciprocal lattice.\n",
      "│   cell =\n",
      "│    Spglib.SpglibCell{Float64, Float64, Int64, Float64}\n",
      "│     lattice:\n",
      "│       5.41999997388764  0.0  0.0\n",
      "│       0.0  5.41999997388764  0.0\n",
      "│       0.0  0.0  5.41999997388764\n",
      "│     2 atomic positions:\n",
      "│       0.0  0.0  0.0\n",
      "│       0.5  0.5  0.5\n",
      "│     2 atoms:\n",
      "│       1  1\n",
      "│     2 magmoms:\n",
      "│       0.0  0.0\n",
      "│    \n",
      "└ @ BrillouinSpglibExt ~/.julia/packages/Brillouin/5Kz8P/ext/BrillouinSpglibExt.jl:28\n"
     ]
    }
   ],
   "cell_type": "code",
   "source": [
    "bands = compute_bands(scfres, kline_density=10)\n",
    "save_bands(\"iron_afm_bands.json\", bands)"
   ],
   "metadata": {},
   "execution_count": 9
  },
  {
   "cell_type": "markdown",
   "source": [
    "## Writing and reading JLD2 files\n",
    "The full state of a DFTK self-consistent field calculation can be\n",
    "stored on disk in form of an [JLD2.jl](https://github.com/JuliaIO/JLD2.jl) file.\n",
    "This file can be read from other Julia scripts\n",
    "as well as other external codes supporting the HDF5 file format\n",
    "(since the JLD2 format is based on HDF5). This includes notably `h5py`\n",
    "to read DFTK output from python."
   ],
   "metadata": {}
  },
  {
   "outputs": [],
   "cell_type": "code",
   "source": [
    "using JLD2\n",
    "save_scfres(\"iron_afm.jld2\", scfres)"
   ],
   "metadata": {},
   "execution_count": 10
  },
  {
   "cell_type": "markdown",
   "source": [
    "Saving such JLD2 files supports some options, such as `save_ψ=false`, which avoids saving\n",
    "the Bloch waves (much faster and smaller files). Notice that JLD2 files can also be used\n",
    "with `save_bands`."
   ],
   "metadata": {}
  },
  {
   "cell_type": "markdown",
   "source": [
    "Since such JLD2 can also be read by DFTK to start or continue a calculation,\n",
    "these can also be used for checkpointing or for transferring results\n",
    "to a different computer.\n",
    "See Saving SCF results on disk and SCF checkpoints for details."
   ],
   "metadata": {}
  },
  {
   "cell_type": "markdown",
   "source": [
    "(Cleanup files generated by this notebook.)"
   ],
   "metadata": {}
  },
  {
   "outputs": [
    {
     "output_type": "execute_result",
     "data": {
      "text/plain": "6-element Vector{Nothing}:\n nothing\n nothing\n nothing\n nothing\n nothing\n nothing"
     },
     "metadata": {},
     "execution_count": 11
    }
   ],
   "cell_type": "code",
   "source": [
    "rm.([\"iron_afm.vts\", \"iron_afm.jld2\",\n",
    "     \"iron_afm.json\", \"iron_afm_energies.json\", \"iron_afm_scfres.json\",\n",
    "     \"iron_afm_bands.json\"])"
   ],
   "metadata": {},
   "execution_count": 11
  }
 ],
 "nbformat_minor": 3,
 "metadata": {
  "language_info": {
   "file_extension": ".jl",
   "mimetype": "application/julia",
   "name": "julia",
   "version": "1.10.4"
  },
  "kernelspec": {
   "name": "julia-1.10",
   "display_name": "Julia 1.10.4",
   "language": "julia"
  }
 },
 "nbformat": 4
}
